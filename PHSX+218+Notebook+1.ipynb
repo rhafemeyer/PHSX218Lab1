{
 "cells": [
  {
   "cell_type": "markdown",
   "metadata": {},
   "source": [
    "Robert Hafemeyer Jan. 17, 2019 Functions exercise\n",
    "# Python Functions, Arrays"
   ]
  },
  {
   "cell_type": "code",
   "execution_count": 9,
   "metadata": {},
   "outputs": [],
   "source": [
    "import numpy as np"
   ]
  },
  {
   "cell_type": "markdown",
   "metadata": {},
   "source": [
    "First, create a funtion. For this example, use the equation for total energy: $TE = \\frac{1}{2}mv^2 + mgh$.\n",
    "\n",
    "$\\alpha \\theta \\Delta \\Sigma \\sigma$"
   ]
  },
  {
   "cell_type": "code",
   "execution_count": 16,
   "metadata": {},
   "outputs": [
    {
     "name": "stdout",
     "output_type": "stream",
     "text": [
      "Total Energy is 242.54999999999998 Joules\n"
     ]
    }
   ],
   "source": [
    "def te (m,v,h):\n",
    "    TE = (1/2)*m*(v**2) + m*9.8*h\n",
    "    return TE\n",
    "mass = 1.2 #kg\n",
    "velocity = 3.5 #m/s\n",
    "height = 20 #m\n",
    "total_energy = te (mass,velocity,height)\n",
    "print (\"Total Energy is\",total_energy,\"Joules\")"
   ]
  },
  {
   "cell_type": "code",
   "execution_count": 17,
   "metadata": {},
   "outputs": [
    {
     "name": "stdout",
     "output_type": "stream",
     "text": [
      "[10  8  6  4  2]\n"
     ]
    }
   ],
   "source": [
    "mass_array = np.array([5,4,3,2,1])\n",
    "velocity_array = np.array([2.5,5,7.5,10,12.5])\n",
    "height_array = np.array([5,10,15,20,25])\n",
    "dbl_mass = 2*mass_array\n",
    "print(dbl_mass)"
   ]
  },
  {
   "cell_type": "code",
   "execution_count": 18,
   "metadata": {},
   "outputs": [
    {
     "name": "stdout",
     "output_type": "stream",
     "text": [
      "[ 260.625  442.     525.375  492.     323.125]\n"
     ]
    }
   ],
   "source": [
    "total_e_array = te (mass_array,velocity_array,height_array)\n",
    "print (total_e_array)"
   ]
  },
  {
   "cell_type": "code",
   "execution_count": null,
   "metadata": {
    "collapsed": true
   },
   "outputs": [],
   "source": []
  }
 ],
 "metadata": {
  "kernelspec": {
   "display_name": "Python 3",
   "language": "python",
   "name": "python3"
  },
  "language_info": {
   "codemirror_mode": {
    "name": "ipython",
    "version": 3
   },
   "file_extension": ".py",
   "mimetype": "text/x-python",
   "name": "python",
   "nbconvert_exporter": "python",
   "pygments_lexer": "ipython3",
   "version": "3.6.1"
  }
 },
 "nbformat": 4,
 "nbformat_minor": 2
}
