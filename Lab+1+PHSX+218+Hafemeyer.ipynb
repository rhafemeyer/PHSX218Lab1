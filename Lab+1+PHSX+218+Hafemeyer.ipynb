{
 "cells": [
  {
   "cell_type": "markdown",
   "metadata": {},
   "source": [
    "$ \\alpha = \\frac {\\Delta L}{L \\Delta T}$\n",
    "\n",
    "Rule Three: For $Q = A+B$, $\\delta Q = \\sqrt{\\delta A^2 + \\delta B^2}$\n",
    "\n",
    "Rule Four: For $Q = A^mB^nC^p$, $\\delta Q = Q\\sqrt{(m \\frac{\\delta A}{A})^2 + (n \\frac{\\delta B} {B})^2 + (p \\frac{\\delta C} {C})^2} $"
   ]
  },
  {
   "cell_type": "code",
   "execution_count": 25,
   "metadata": {},
   "outputs": [
    {
     "name": "stdout",
     "output_type": "stream",
     "text": [
      "0.316227766017\n",
      "Alpha =  1.722830955826614e-05 and Error in Alpha is 1.5962962826e-07\n"
     ]
    }
   ],
   "source": [
    "import numpy as np\n",
    "def rule3(errA,errB):\n",
    "    errQ = np.sqrt(errA**2 + errB**2)\n",
    "    return errQ\n",
    "errT_i = 0.3 #deg C\n",
    "errT_f = 0.1 #deg C\n",
    "DT = 92.5 - 23.4\n",
    "err_DT = rule3(errT_i, errT_f)\n",
    "print(err_DT)\n",
    "def rule4 (Q, m, errA, A, n, errB, B, p, errC, C):\n",
    "    errQ = Q*np.sqrt((m*errA/A)**2+(n*errB/B)**2+(p*errC/C)**2)\n",
    "    return errQ\n",
    "alpha = (0.00125)*(1.05**(-1))*((92.5-23.4)**(-1))\n",
    "err_alpha = rule4(alpha, 1, 0.00001, 0.00125, 1, 0.001, 1.05, 1, err_DT, DT)\n",
    "print('Alpha = ',alpha,'and Error in Alpha is',err_alpha)"
   ]
  },
  {
   "cell_type": "code",
   "execution_count": null,
   "metadata": {
    "collapsed": true
   },
   "outputs": [],
   "source": []
  }
 ],
 "metadata": {
  "kernelspec": {
   "display_name": "Python 3",
   "language": "python",
   "name": "python3"
  },
  "language_info": {
   "codemirror_mode": {
    "name": "ipython",
    "version": 3
   },
   "file_extension": ".py",
   "mimetype": "text/x-python",
   "name": "python",
   "nbconvert_exporter": "python",
   "pygments_lexer": "ipython3",
   "version": "3.6.1"
  }
 },
 "nbformat": 4,
 "nbformat_minor": 2
}
